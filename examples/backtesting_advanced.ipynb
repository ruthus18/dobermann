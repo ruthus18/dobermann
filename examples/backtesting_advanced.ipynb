{
 "cells": [
  {
   "cell_type": "code",
   "execution_count": 1,
   "id": "e8291891-07b7-45bf-9f23-ae476329a820",
   "metadata": {},
   "outputs": [],
   "source": [
    "import sys\n",
    "import os\n",
    "from pathlib import Path\n",
    "sys.path.append(str(Path.cwd().parent))\n",
    "\n",
    "\n",
    "import logging.config\n",
    "from dobermann.config import settings\n",
    "\n",
    "logging.config.dictConfig(settings.LOGGING)"
   ]
  },
  {
   "cell_type": "code",
   "execution_count": 2,
   "id": "45f9a356-6415-442f-81ca-c5f3d64c9b2c",
   "metadata": {},
   "outputs": [
    {
     "name": "stderr",
     "output_type": "stream",
     "text": [
      "\u001b[37mDEBUG   2022-04-23 03:36:35,967\u001b[33m core.feed: \u001b[34mLoading assets... \u001b[0m\n",
      "\u001b[37mDEBUG   2022-04-23 03:36:36,721\u001b[33m core.feed: \u001b[34mAssets loaded: total=5 \u001b[0m\n",
      "\u001b[37mDEBUG   2022-04-23 03:36:36,730\u001b[33m core.manager: \u001b[34mStarting workers... \u001b[0m\n",
      "\u001b[37mDEBUG   2022-04-23 03:36:36,768\u001b[33m core.exchange: \u001b[34mProcessing orders... \u001b[0m\n",
      "\u001b[37mDEBUG   2022-04-23 03:36:37,962\u001b[33m core.worker[1]: \u001b[34mWorker started \u001b[0m\n",
      "\u001b[37mDEBUG   2022-04-23 03:36:37,967\u001b[33m core.worker[0]: \u001b[34mWorker started \u001b[0m\n",
      "\u001b[37mDEBUG   2022-04-23 03:36:37,974\u001b[33m core.worker[2]: \u001b[34mWorker started \u001b[0m\n",
      "\u001b[37mDEBUG   2022-04-23 03:36:37,976\u001b[33m core.worker[3]: \u001b[34mWorker started \u001b[0m\n",
      "\u001b[37mDEBUG   2022-04-23 03:36:37,983\u001b[33m core.worker[4]: \u001b[34mWorker started \u001b[0m\n",
      "\u001b[37mDEBUG   2022-04-23 03:36:37,984\u001b[33m core.manager: \u001b[34mWorkers started \u001b[0m\n",
      "\u001b[37mDEBUG   2022-04-23 03:36:37,992\u001b[33m core.feed: \u001b[34mPreparing candles to send... \u001b[0m\n",
      "\u001b[37mDEBUG   2022-04-23 03:36:38,215\u001b[33m core.feed: \u001b[34mSending candles... \u001b[0m\n",
      "\u001b[37mDEBUG   2022-04-23 03:36:38,748\u001b[33m core.feed: \u001b[34mAll candles sent: total=10800 \u001b[0m\n",
      "\u001b[37mDEBUG   2022-04-23 03:36:38,749\u001b[33m core.manager: \u001b[34mWaiting workers to complete... \u001b[0m\n",
      "\u001b[37mDEBUG   2022-04-23 03:36:39,257\u001b[33m core.worker[1]: \u001b[34mAll candles processed: total=2160 \u001b[0m\n",
      "\u001b[37mDEBUG   2022-04-23 03:36:39,258\u001b[33m core.worker[1]: \u001b[34mWorker stopped \u001b[0m\n",
      "\u001b[37mDEBUG   2022-04-23 03:36:39,257\u001b[33m core.worker[4]: \u001b[34mAll candles processed: total=2160 \u001b[0m\n",
      "\u001b[37mDEBUG   2022-04-23 03:36:39,259\u001b[33m core.worker[4]: \u001b[34mWorker stopped \u001b[0m\n",
      "\u001b[37mDEBUG   2022-04-23 03:36:39,260\u001b[33m core.worker[0]: \u001b[34mAll candles processed: total=2160 \u001b[0m\n",
      "\u001b[37mDEBUG   2022-04-23 03:36:39,261\u001b[33m core.worker[0]: \u001b[34mWorker stopped \u001b[0m\n",
      "\u001b[37mDEBUG   2022-04-23 03:36:39,261\u001b[33m core.worker[2]: \u001b[34mAll candles processed: total=2160 \u001b[0m\n",
      "\u001b[37mDEBUG   2022-04-23 03:36:39,261\u001b[33m core.worker[2]: \u001b[34mWorker stopped \u001b[0m\n",
      "\u001b[37mDEBUG   2022-04-23 03:36:39,262\u001b[33m core.worker[3]: \u001b[34mAll candles processed: total=2160 \u001b[0m\n",
      "\u001b[37mDEBUG   2022-04-23 03:36:39,263\u001b[33m core.worker[3]: \u001b[34mWorker stopped \u001b[0m\n",
      "\u001b[37mDEBUG   2022-04-23 03:36:39,263\u001b[33m core.manager: \u001b[34mWorkers compelted \u001b[0m\n",
      "\u001b[37mDEBUG   2022-04-23 03:36:39,265\u001b[33m core.exchange: \u001b[34mComplete processing orders \u001b[0m\n",
      "\u001b[37mDEBUG   2022-04-23 03:36:39,506\u001b[33m core.manager: \u001b[34mWorkers shutdown \u001b[0m\n"
     ]
    }
   ],
   "source": [
    "import datetime as dt\n",
    "from dobermann.core import backtest, Timeframe, TestStrategy\n",
    "\n",
    "\n",
    "report = await backtest(\n",
    "    strategy=TestStrategy(),\n",
    "    start_at=dt.datetime(2022, 1, 1),\n",
    "    end_at=dt.datetime(2022, 4, 1),\n",
    "    timeframe=Timeframe.H1,\n",
    "    tickers=['BTCUSDT', 'ETHUSDT', 'BNBUSDT', 'DYDXUSDT', 'NEARUSDT'],\n",
    ")"
   ]
  },
  {
   "cell_type": "code",
   "execution_count": 3,
   "id": "4a41a63e-62e6-448a-a798-b43f60b5b988",
   "metadata": {},
   "outputs": [
    {
     "data": {
      "text/plain": [
       "{'cumulative_profit_ratio': Decimal('1.10488000'),\n",
       " 'mean_profit_ratio': Decimal('1.00360380'),\n",
       " 'gmean_profit_ratio': Decimal('1.00071269'),\n",
       " 'max_drawdown': Decimal('0.74740045'),\n",
       " 'total_trades': 140,\n",
       " 'success_trades': 74,\n",
       " 'fail_trades': 66,\n",
       " 'success_trades_ratio': Decimal('0.52857142'),\n",
       " 'avg_leverage_used': Decimal('2.45999999999999996447286321199499070644378662109375'),\n",
       " 'max_leverage_used': Decimal('5')}"
      ]
     },
     "execution_count": 3,
     "metadata": {},
     "output_type": "execute_result"
    }
   ],
   "source": [
    "report.summary"
   ]
  },
  {
   "cell_type": "code",
   "execution_count": 4,
   "id": "c307707d-4ce3-4097-82be-e26d53ddc07e",
   "metadata": {},
   "outputs": [
    {
     "data": {
      "text/html": [
       "\n",
       "<div id=\"altair-viz-8a1b3ba1dfae4c3d96872111d5f25fd7\"></div>\n",
       "<script type=\"text/javascript\">\n",
       "  var VEGA_DEBUG = (typeof VEGA_DEBUG == \"undefined\") ? {} : VEGA_DEBUG;\n",
       "  (function(spec, embedOpt){\n",
       "    let outputDiv = document.currentScript.previousElementSibling;\n",
       "    if (outputDiv.id !== \"altair-viz-8a1b3ba1dfae4c3d96872111d5f25fd7\") {\n",
       "      outputDiv = document.getElementById(\"altair-viz-8a1b3ba1dfae4c3d96872111d5f25fd7\");\n",
       "    }\n",
       "    const paths = {\n",
       "      \"vega\": \"https://cdn.jsdelivr.net/npm//vega@5?noext\",\n",
       "      \"vega-lib\": \"https://cdn.jsdelivr.net/npm//vega-lib?noext\",\n",
       "      \"vega-lite\": \"https://cdn.jsdelivr.net/npm//vega-lite@4.17.0?noext\",\n",
       "      \"vega-embed\": \"https://cdn.jsdelivr.net/npm//vega-embed@6?noext\",\n",
       "    };\n",
       "\n",
       "    function maybeLoadScript(lib, version) {\n",
       "      var key = `${lib.replace(\"-\", \"\")}_version`;\n",
       "      return (VEGA_DEBUG[key] == version) ?\n",
       "        Promise.resolve(paths[lib]) :\n",
       "        new Promise(function(resolve, reject) {\n",
       "          var s = document.createElement('script');\n",
       "          document.getElementsByTagName(\"head\")[0].appendChild(s);\n",
       "          s.async = true;\n",
       "          s.onload = () => {\n",
       "            VEGA_DEBUG[key] = version;\n",
       "            return resolve(paths[lib]);\n",
       "          };\n",
       "          s.onerror = () => reject(`Error loading script: ${paths[lib]}`);\n",
       "          s.src = paths[lib];\n",
       "        });\n",
       "    }\n",
       "\n",
       "    function showError(err) {\n",
       "      outputDiv.innerHTML = `<div class=\"error\" style=\"color:red;\">${err}</div>`;\n",
       "      throw err;\n",
       "    }\n",
       "\n",
       "    function displayChart(vegaEmbed) {\n",
       "      vegaEmbed(outputDiv, spec, embedOpt)\n",
       "        .catch(err => showError(`Javascript Error: ${err.message}<br>This usually means there's a typo in your chart specification. See the javascript console for the full traceback.`));\n",
       "    }\n",
       "\n",
       "    if(typeof define === \"function\" && define.amd) {\n",
       "      requirejs.config({paths});\n",
       "      require([\"vega-embed\"], displayChart, err => showError(`Error loading script: ${err.message}`));\n",
       "    } else {\n",
       "      maybeLoadScript(\"vega\", \"5\")\n",
       "        .then(() => maybeLoadScript(\"vega-lite\", \"4.17.0\"))\n",
       "        .then(() => maybeLoadScript(\"vega-embed\", \"6\"))\n",
       "        .catch(showError)\n",
       "        .then(() => displayChart(vegaEmbed));\n",
       "    }\n",
       "  })({\"config\": {\"view\": {\"continuousWidth\": 400, \"continuousHeight\": 300}}, \"vconcat\": [{\"layer\": [{\"data\": {\"name\": \"data-54645b3e33ab972ed7d66aaccef82a97\"}, \"mark\": \"line\", \"encoding\": {\"x\": {\"axis\": {\"grid\": false, \"title\": \"\"}, \"field\": \"Time\", \"type\": \"temporal\"}, \"y\": {\"axis\": {\"title\": \"\"}, \"field\": \"Equity\", \"scale\": {\"domain\": [150.0, 2350.0]}, \"type\": \"quantitative\"}}, \"transform\": [{\"filter\": {\"field\": \"Equity\", \"valid\": true}}]}, {\"data\": {\"name\": \"data-ac0604903442ed28ac7caeaeddb9ad1b\"}, \"mark\": {\"type\": \"rule\", \"size\": 0.2}, \"encoding\": {\"color\": {\"value\": \"red\"}, \"y\": {\"field\": \"y\", \"type\": \"quantitative\"}}}, {\"data\": {\"name\": \"data-54645b3e33ab972ed7d66aaccef82a97\"}, \"mark\": {\"type\": \"rule\", \"size\": 10}, \"encoding\": {\"opacity\": {\"value\": 0}, \"tooltip\": [{\"field\": \"Time\", \"format\": \"%d %b %Y, %H:%M\", \"type\": \"temporal\"}, {\"field\": \"Equity\", \"format\": \".2f\", \"type\": \"quantitative\"}], \"x\": {\"field\": \"Time\", \"type\": \"temporal\"}}, \"selection\": {\"selector001\": {\"type\": \"single\", \"nearest\": true, \"on\": \"mouseover\", \"fields\": [\"Time\"], \"empty\": \"none\"}}}, {\"data\": {\"name\": \"data-54645b3e33ab972ed7d66aaccef82a97\"}, \"mark\": {\"type\": \"rule\", \"opacity\": 0.25, \"size\": 0.25}, \"encoding\": {\"x\": {\"field\": \"Time\", \"type\": \"temporal\"}}, \"transform\": [{\"filter\": {\"selection\": \"selector001\"}}]}, {\"data\": {\"name\": \"data-54645b3e33ab972ed7d66aaccef82a97\"}, \"mark\": {\"type\": \"point\", \"filled\": true}, \"encoding\": {\"opacity\": {\"condition\": {\"value\": 1, \"selection\": \"selector001\"}, \"value\": 0}, \"x\": {\"axis\": {\"grid\": false, \"title\": \"\"}, \"field\": \"Time\", \"type\": \"temporal\"}, \"y\": {\"axis\": {\"title\": \"\"}, \"field\": \"Equity\", \"scale\": {\"domain\": [150.0, 2350.0]}, \"type\": \"quantitative\"}}, \"transform\": [{\"filter\": {\"field\": \"Equity\", \"valid\": true}}]}], \"height\": 300, \"title\": \"Equity\", \"width\": 1000}, {\"layer\": [{\"mark\": \"bar\", \"encoding\": {\"color\": {\"value\": \"darkgreen\"}, \"opacity\": {\"condition\": {\"value\": 1, \"selection\": \"selector001\"}, \"value\": 0.5}, \"x\": {\"axis\": {\"grid\": false, \"title\": \"\"}, \"field\": \"Time\", \"type\": \"temporal\"}, \"y\": {\"axis\": {\"title\": \"\"}, \"field\": \"Leverage Used\", \"scale\": {\"domain\": [0, 5.5]}, \"type\": \"quantitative\"}}}, {\"mark\": {\"type\": \"rule\", \"size\": 10}, \"encoding\": {\"opacity\": {\"value\": 0}, \"tooltip\": [{\"field\": \"Time\", \"format\": \"%d %b %Y, %H:%M\", \"type\": \"temporal\"}, {\"field\": \"Leverage Used\", \"format\": \".2f\", \"type\": \"quantitative\"}], \"x\": {\"field\": \"Time\", \"type\": \"temporal\"}}, \"selection\": {\"selector001\": {\"type\": \"single\", \"nearest\": true, \"on\": \"mouseover\", \"fields\": [\"Time\"], \"empty\": \"none\"}}}, {\"mark\": {\"type\": \"rule\", \"opacity\": 0.25, \"size\": 0.25}, \"encoding\": {\"x\": {\"field\": \"Time\", \"type\": \"temporal\"}}, \"transform\": [{\"filter\": {\"selection\": \"selector001\"}}]}], \"data\": {\"name\": \"data-54645b3e33ab972ed7d66aaccef82a97\"}, \"height\": 150, \"title\": \"Leverage Used\", \"width\": 1000}, {\"layer\": [{\"mark\": {\"type\": \"line\", \"color\": \"red\"}, \"encoding\": {\"x\": {\"axis\": {\"grid\": false, \"title\": \"\"}, \"field\": \"Time\", \"type\": \"temporal\"}, \"y\": {\"axis\": {\"title\": \"\"}, \"field\": \"Drawdown\", \"type\": \"quantitative\"}}, \"transform\": [{\"filter\": {\"field\": \"Drawdown\", \"valid\": true}}]}, {\"mark\": {\"type\": \"rule\", \"size\": 10}, \"encoding\": {\"opacity\": {\"value\": 0}, \"tooltip\": [{\"field\": \"Time\", \"format\": \"%d %b %Y, %H:%M\", \"type\": \"temporal\"}, {\"field\": \"Drawdown\", \"format\": \".6f\", \"type\": \"quantitative\"}], \"x\": {\"field\": \"Time\", \"type\": \"temporal\"}}, \"selection\": {\"selector001\": {\"type\": \"single\", \"nearest\": true, \"on\": \"mouseover\", \"fields\": [\"Time\"], \"empty\": \"none\"}}}, {\"mark\": {\"type\": \"rule\", \"opacity\": 0.25, \"size\": 0.25}, \"encoding\": {\"x\": {\"field\": \"Time\", \"type\": \"temporal\"}}, \"transform\": [{\"filter\": {\"selection\": \"selector001\"}}]}, {\"mark\": {\"type\": \"point\", \"color\": \"red\", \"filled\": true}, \"encoding\": {\"opacity\": {\"condition\": {\"value\": 1, \"selection\": \"selector001\"}, \"value\": 0}, \"x\": {\"axis\": {\"grid\": false, \"title\": \"\"}, \"field\": \"Time\", \"type\": \"temporal\"}, \"y\": {\"axis\": {\"title\": \"\"}, \"field\": \"Drawdown\", \"type\": \"quantitative\"}}, \"transform\": [{\"filter\": {\"field\": \"Drawdown\", \"valid\": true}}]}], \"data\": {\"name\": \"data-54645b3e33ab972ed7d66aaccef82a97\"}, \"height\": 100, \"title\": \"Drawdown\", \"width\": 1000}], \"$schema\": \"https://vega.github.io/schema/vega-lite/v4.17.0.json\", \"datasets\": {\"data-54645b3e33ab972ed7d66aaccef82a97\": [{\"Time\": \"2022-01-01T00:00:00+05:00\", \"Equity\": 1000.0, \"Drawdown\": 0.0, \"Leverage Used\": 0.0}, {\"Time\": \"2022-01-02T13:00:00+05:00\", \"Equity\": 1000.0, \"Drawdown\": 0.0, \"Leverage Used\": 5.0}, {\"Time\": \"2022-01-04T03:00:00+05:00\", \"Equity\": 1008.83, \"Drawdown\": 0.0, \"Leverage Used\": 0.0}, {\"Time\": \"2022-01-05T17:00:00+05:00\", \"Equity\": 1008.83, \"Drawdown\": 0.0, \"Leverage Used\": 5.0}, {\"Time\": \"2022-01-07T07:00:00+05:00\", \"Equity\": 575.22, \"Drawdown\": 0.42981473, \"Leverage Used\": 0.0}, {\"Time\": \"2022-01-08T21:00:00+05:00\", \"Equity\": 575.22, \"Drawdown\": 0.42981473, \"Leverage Used\": 5.0}, {\"Time\": \"2022-01-10T11:00:00+05:00\", \"Equity\": 566.51, \"Drawdown\": 0.43844849, \"Leverage Used\": 0.0}, {\"Time\": \"2022-01-12T01:00:00+05:00\", \"Equity\": 566.51, \"Drawdown\": 0.43844849, \"Leverage Used\": 5.0}, {\"Time\": \"2022-01-13T15:00:00+05:00\", \"Equity\": 700.23, \"Drawdown\": 0.30589891, \"Leverage Used\": 0.0}, {\"Time\": \"2022-01-15T05:00:00+05:00\", \"Equity\": 700.23, \"Drawdown\": 0.30589891, \"Leverage Used\": 5.0}, {\"Time\": \"2022-01-16T19:00:00+05:00\", \"Equity\": 720.45, \"Drawdown\": 0.28585589, \"Leverage Used\": 0.0}, {\"Time\": \"2022-01-18T09:00:00+05:00\", \"Equity\": 720.45, \"Drawdown\": 0.28585589, \"Leverage Used\": 5.0}, {\"Time\": \"2022-01-19T23:00:00+05:00\", \"Equity\": 678.48, \"Drawdown\": 0.32745854, \"Leverage Used\": 0.0}, {\"Time\": \"2022-01-21T13:00:00+05:00\", \"Equity\": 678.48, \"Drawdown\": 0.32745854, \"Leverage Used\": 5.0}, {\"Time\": \"2022-01-23T03:00:00+05:00\", \"Equity\": 254.83, \"Drawdown\": 0.74740045, \"Leverage Used\": 0.0}, {\"Time\": \"2022-01-24T17:00:00+05:00\", \"Equity\": 254.83, \"Drawdown\": 0.74740045, \"Leverage Used\": 5.0}, {\"Time\": \"2022-01-26T07:00:00+05:00\", \"Equity\": 514.17, \"Drawdown\": 0.49033038, \"Leverage Used\": 0.0}, {\"Time\": \"2022-01-27T21:00:00+05:00\", \"Equity\": 514.17, \"Drawdown\": 0.49033038, \"Leverage Used\": 5.0}, {\"Time\": \"2022-01-29T11:00:00+05:00\", \"Equity\": 563.87, \"Drawdown\": 0.44106539, \"Leverage Used\": 0.0}, {\"Time\": \"2022-01-31T01:00:00+05:00\", \"Equity\": 563.87, \"Drawdown\": 0.44106539, \"Leverage Used\": 5.0}, {\"Time\": \"2022-02-01T15:00:00+05:00\", \"Equity\": 678.85, \"Drawdown\": 0.32709177, \"Leverage Used\": 0.0}, {\"Time\": \"2022-02-03T05:00:00+05:00\", \"Equity\": 678.85, \"Drawdown\": 0.32709177, \"Leverage Used\": 5.0}, {\"Time\": \"2022-02-04T19:00:00+05:00\", \"Equity\": 829.05, \"Drawdown\": 0.17820643, \"Leverage Used\": 0.0}, {\"Time\": \"2022-02-06T09:00:00+05:00\", \"Equity\": 829.05, \"Drawdown\": 0.17820643, \"Leverage Used\": 5.0}, {\"Time\": \"2022-02-07T23:00:00+05:00\", \"Equity\": 1100.2, \"Drawdown\": 0.0, \"Leverage Used\": 0.0}, {\"Time\": \"2022-02-09T13:00:00+05:00\", \"Equity\": 1100.2, \"Drawdown\": 0.0, \"Leverage Used\": 5.0}, {\"Time\": \"2022-02-11T03:00:00+05:00\", \"Equity\": 1095.31, \"Drawdown\": 0.00444464, \"Leverage Used\": 0.0}, {\"Time\": \"2022-02-12T17:00:00+05:00\", \"Equity\": 1095.31, \"Drawdown\": 0.00444464, \"Leverage Used\": 5.0}, {\"Time\": \"2022-02-14T07:00:00+05:00\", \"Equity\": 908.35, \"Drawdown\": 0.17437738, \"Leverage Used\": 0.0}, {\"Time\": \"2022-02-15T21:00:00+05:00\", \"Equity\": 908.35, \"Drawdown\": 0.17437738, \"Leverage Used\": 5.0}, {\"Time\": \"2022-02-17T11:00:00+05:00\", \"Equity\": 869.63, \"Drawdown\": 0.20957098, \"Leverage Used\": 0.0}, {\"Time\": \"2022-02-19T01:00:00+05:00\", \"Equity\": 869.63, \"Drawdown\": 0.20957098, \"Leverage Used\": 5.0}, {\"Time\": \"2022-02-20T15:00:00+05:00\", \"Equity\": 634.06, \"Drawdown\": 0.4236866, \"Leverage Used\": 0.0}, {\"Time\": \"2022-02-22T05:00:00+05:00\", \"Equity\": 634.06, \"Drawdown\": 0.4236866, \"Leverage Used\": 5.0}, {\"Time\": \"2022-02-23T19:00:00+05:00\", \"Equity\": 794.78, \"Drawdown\": 0.27760407, \"Leverage Used\": 0.0}, {\"Time\": \"2022-02-25T09:00:00+05:00\", \"Equity\": 794.78, \"Drawdown\": 0.27760407, \"Leverage Used\": 5.0}, {\"Time\": \"2022-02-26T23:00:00+05:00\", \"Equity\": 1029.61, \"Drawdown\": 0.06416106, \"Leverage Used\": 0.0}, {\"Time\": \"2022-02-28T13:00:00+05:00\", \"Equity\": 1029.61, \"Drawdown\": 0.06416106, \"Leverage Used\": 5.0}, {\"Time\": \"2022-03-02T03:00:00+05:00\", \"Equity\": 2204.15, \"Drawdown\": 0.0, \"Leverage Used\": 0.0}, {\"Time\": \"2022-03-03T17:00:00+05:00\", \"Equity\": 2204.15, \"Drawdown\": 0.0, \"Leverage Used\": 5.0}, {\"Time\": \"2022-03-05T07:00:00+05:00\", \"Equity\": 1187.91, \"Drawdown\": 0.46105755, \"Leverage Used\": 0.0}, {\"Time\": \"2022-03-06T21:00:00+05:00\", \"Equity\": 1187.91, \"Drawdown\": 0.46105755, \"Leverage Used\": 5.0}, {\"Time\": \"2022-03-08T11:00:00+05:00\", \"Equity\": 959.91, \"Drawdown\": 0.56449878, \"Leverage Used\": 0.0}, {\"Time\": \"2022-03-10T01:00:00+05:00\", \"Equity\": 959.91, \"Drawdown\": 0.56449878, \"Leverage Used\": 5.0}, {\"Time\": \"2022-03-11T15:00:00+05:00\", \"Equity\": 729.15, \"Drawdown\": 0.6691922, \"Leverage Used\": 0.0}, {\"Time\": \"2022-03-13T05:00:00+05:00\", \"Equity\": 729.15, \"Drawdown\": 0.6691922, \"Leverage Used\": 5.0}, {\"Time\": \"2022-03-14T19:00:00+05:00\", \"Equity\": 682.77, \"Drawdown\": 0.69023433, \"Leverage Used\": 0.0}, {\"Time\": \"2022-03-16T09:00:00+05:00\", \"Equity\": 682.77, \"Drawdown\": 0.69023433, \"Leverage Used\": 5.0}, {\"Time\": \"2022-03-17T23:00:00+05:00\", \"Equity\": 940.15, \"Drawdown\": 0.57346369, \"Leverage Used\": 0.0}, {\"Time\": \"2022-03-19T13:00:00+05:00\", \"Equity\": 940.15, \"Drawdown\": 0.57346369, \"Leverage Used\": 5.0}, {\"Time\": \"2022-03-21T03:00:00+05:00\", \"Equity\": 805.61, \"Drawdown\": 0.63450309, \"Leverage Used\": 0.0}, {\"Time\": \"2022-03-22T17:00:00+05:00\", \"Equity\": 805.61, \"Drawdown\": 0.63450309, \"Leverage Used\": 5.0}, {\"Time\": \"2022-03-24T07:00:00+05:00\", \"Equity\": 860.93, \"Drawdown\": 0.60940498, \"Leverage Used\": 0.0}, {\"Time\": \"2022-03-25T21:00:00+05:00\", \"Equity\": 860.93, \"Drawdown\": 0.60940498, \"Leverage Used\": 5.0}, {\"Time\": \"2022-03-27T11:00:00+05:00\", \"Equity\": 996.22, \"Drawdown\": 0.54802531, \"Leverage Used\": 0.0}, {\"Time\": \"2022-03-29T01:00:00+05:00\", \"Equity\": 996.22, \"Drawdown\": 0.54802531, \"Leverage Used\": 5.0}, {\"Time\": \"2022-03-30T15:00:00+05:00\", \"Equity\": 1104.88, \"Drawdown\": 0.4987274, \"Leverage Used\": 0.0}], \"data-ac0604903442ed28ac7caeaeddb9ad1b\": [{\"y\": 1000}]}}, {\"mode\": \"vega-lite\"});\n",
       "</script>"
      ],
      "text/plain": [
       "alt.VConcatChart(...)"
      ]
     },
     "execution_count": 4,
     "metadata": {},
     "output_type": "execute_result"
    }
   ],
   "source": [
    "report.equity_chart"
   ]
  },
  {
   "cell_type": "code",
   "execution_count": null,
   "id": "b5fcc1f2-ff1b-4d64-ab9a-3cd4eac280c2",
   "metadata": {},
   "outputs": [],
   "source": []
  }
 ],
 "metadata": {
  "kernelspec": {
   "display_name": "Python 3 (ipykernel)",
   "language": "python",
   "name": "python3"
  },
  "language_info": {
   "codemirror_mode": {
    "name": "ipython",
    "version": 3
   },
   "file_extension": ".py",
   "mimetype": "text/x-python",
   "name": "python",
   "nbconvert_exporter": "python",
   "pygments_lexer": "ipython3",
   "version": "3.10.3"
  }
 },
 "nbformat": 4,
 "nbformat_minor": 5
}
