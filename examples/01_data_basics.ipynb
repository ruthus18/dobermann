{
 "cells": [
  {
   "cell_type": "markdown",
   "id": "e06435eb-c971-495f-ae48-3e21d76f6527",
   "metadata": {},
   "source": [
    "# 1. Basics of working with candles data and indicators\n",
    "\n",
    "We have two ways how to get candles data:\n",
    "\n",
    "1. Directly from ByBit (slow performance, suitable for small data sets)\n",
    "2. From local database (fast performance, need to perform data sync first)\n",
    "\n",
    "To run this example, make sure that you:\n",
    "\n",
    "* Start up your PostgreSQL instance:\n",
    "\n",
    "```bash\n",
    "docker-compose up -d db\n",
    "```\n",
    "\n",
    "* Apply migrations and sync candles data (e.g. through IPython):\n",
    "\n",
    "```python\n",
    "from app import db\n",
    "\n",
    "await db.start()\n",
    "await db.apply_migrations()\n",
    "await db.sync_candles_from_bybit()\n",
    "```"
   ]
  },
  {
   "cell_type": "markdown",
   "id": "54e409db-314d-41eb-bd13-75087af24412",
   "metadata": {},
   "source": [
    "At first, we need to define some constraints of dataset, which we will operate:"
   ]
  },
  {
   "cell_type": "code",
   "execution_count": 1,
   "id": "11e75689-9d8e-49c2-953b-55d41f9e2dd5",
   "metadata": {},
   "outputs": [],
   "source": [
    "import datetime as dt\n",
    "\n",
    "from app.core import Timeframe\n",
    "\n",
    "\n",
    "start_at = dt.datetime(2022, 8, 1)\n",
    "end_at = dt.datetime(2022, 11, 1)\n",
    "asset = 'BTCUSD'\n",
    "timeframe = Timeframe.M5"
   ]
  },
  {
   "cell_type": "markdown",
   "id": "c3ad0ed7-4883-46d5-968e-0725ec0884a6",
   "metadata": {},
   "source": [
    "Let's get candles from ByBit. It's simple, just import the client and call `get_candles` method:"
   ]
  },
  {
   "cell_type": "code",
   "execution_count": 2,
   "id": "b67af8ff-dad4-41b3-b0cf-b3e160af9bc7",
   "metadata": {},
   "outputs": [
    {
     "name": "stdout",
     "output_type": "stream",
     "text": [
      "[18:13:59.281] \u001b[1mDownloading candles for \u001b[32mBTCUSD[5m]\u001b[0m\u001b[1m...\u001b[0m\n"
     ]
    },
    {
     "name": "stderr",
     "output_type": "stream",
     "text": [
      "26496it [00:14, 1852.66it/s]"
     ]
    },
    {
     "name": "stdout",
     "output_type": "stream",
     "text": [
      "[18:14:14.056] \u001b[32m\u001b[1mDownloaded 26496 candles for BTCUSD[5m]\u001b[0m\n"
     ]
    },
    {
     "name": "stderr",
     "output_type": "stream",
     "text": [
      "\n"
     ]
    }
   ],
   "source": [
    "from app import bybit\n",
    "\n",
    "bybit_candles = await bybit.client.get_candles(asset, timeframe, start_at, end_at)"
   ]
  },
  {
   "cell_type": "markdown",
   "id": "f359acdb-00af-4383-8745-622fa28708c5",
   "metadata": {},
   "source": [
    "Make simple check of our data: "
   ]
  },
  {
   "cell_type": "code",
   "execution_count": 3,
   "id": "03220b74-054e-435e-b0b5-17f94f1d9183",
   "metadata": {},
   "outputs": [
    {
     "name": "stdout",
     "output_type": "stream",
     "text": [
      "Total: 26496\n",
      "Min: {'open_time': datetime.datetime(2022, 8, 1, 0, 0), 'open': 23742.0, 'close': 23897.0, 'low': 23700.0, 'high': 23900.0, 'volume': 8184106.0}\n",
      "Max: {'open_time': datetime.datetime(2022, 10, 31, 23, 55), 'open': 20454.0, 'close': 20419.5, 'low': 20414.5, 'high': 20456.0, 'volume': 683178.0}\n"
     ]
    }
   ],
   "source": [
    "print('Total:', len(bybit_candles))\n",
    "print('Min:', bybit_candles[0])\n",
    "print('Max:', bybit_candles[-1])"
   ]
  },
  {
   "cell_type": "markdown",
   "id": "2d8b0b3c-672a-4ff0-adb7-16b2889f2a70",
   "metadata": {},
   "source": [
    "To get candles from DB, we have the same interface as in case of Bybit. But first of that, we need to initialize DB connection through `db.start`:"
   ]
  },
  {
   "cell_type": "code",
   "execution_count": 4,
   "id": "3eff5917-576c-4b51-9e19-3527530bc10a",
   "metadata": {},
   "outputs": [],
   "source": [
    "from app import db\n",
    "\n",
    "await db.start()\n",
    "\n",
    "db_candles = await db.get_candles(asset, timeframe, start_at, end_at)"
   ]
  },
  {
   "cell_type": "markdown",
   "id": "686fa5f4-2a72-4f94-a355-2fa5345b1a85",
   "metadata": {},
   "source": [
    "Make same checks that we made for Bybit dataset:"
   ]
  },
  {
   "cell_type": "code",
   "execution_count": 5,
   "id": "a53f035a-a2a8-425f-99a4-6ed627ce3a1c",
   "metadata": {},
   "outputs": [
    {
     "name": "stdout",
     "output_type": "stream",
     "text": [
      "Total: 26496\n",
      "Min: {'open_time': datetime.datetime(2022, 8, 1, 0, 0), 'open': 23742.0, 'close': 23897.0, 'low': 23700.0, 'high': 23900.0, 'volume': 8184106.0}\n",
      "Max: {'open_time': datetime.datetime(2022, 10, 31, 23, 55), 'open': 20454.0, 'close': 20419.5, 'low': 20414.5, 'high': 20456.0, 'volume': 683178.0}\n"
     ]
    }
   ],
   "source": [
    "print('Total:', len(db_candles))\n",
    "print('Min:', db_candles[0])\n",
    "print('Max:', db_candles[-1])"
   ]
  },
  {
   "cell_type": "markdown",
   "id": "1c1fe258-13c9-4036-a3d9-dc4780bf099a",
   "metadata": {},
   "source": [
    "Now it's time to pass data to indicators.\n",
    "\n",
    "The main goal of indicators design - make them as simple as possible with gaining max performance of native Python (and Numpy in some calculations). They are providing only loop-based interface, no vector calculations. As a result, indicators are less error-prone because we can use the same code for every trading needs (backtesting & live trading). The main drawback - restricted performance (no HFT today, folks)"
   ]
  },
  {
   "cell_type": "code",
   "execution_count": 6,
   "id": "be09f930-52bd-4814-a822-aad2d85d9116",
   "metadata": {},
   "outputs": [
    {
     "name": "stdout",
     "output_type": "stream",
     "text": [
      "[18:14:26.693] \u001b[1mCalculating SMA...\u001b[0m\n"
     ]
    },
    {
     "name": "stderr",
     "output_type": "stream",
     "text": [
      "100%|████████████████████████████████████████████████████████████████████████████████████████████████████████████████████████████████████| 26496/26496 [00:00<00:00, 439791.68it/s]"
     ]
    },
    {
     "name": "stdout",
     "output_type": "stream",
     "text": [
      "[18:14:26.759] \u001b[1mCalculating EMA...\u001b[0m\n"
     ]
    },
    {
     "name": "stderr",
     "output_type": "stream",
     "text": [
      "\n",
      "100%|███████████████████████████████████████████████████████████████████████████████████████████████████████████████████████████████████| 26496/26496 [00:00<00:00, 3287548.18it/s]"
     ]
    },
    {
     "name": "stdout",
     "output_type": "stream",
     "text": [
      "[18:14:26.770] \u001b[1mCalculating WMA...\u001b[0m\n"
     ]
    },
    {
     "name": "stderr",
     "output_type": "stream",
     "text": [
      "\n",
      "100%|█████████████████████████████████████████████████████████████████████████████████████████████████████████████████████████████████████| 26496/26496 [00:00<00:00, 53645.39it/s]\n"
     ]
    }
   ],
   "source": [
    "from app.indicators import *\n",
    "from app.config import logger\n",
    "\n",
    "# Use tqdm to check calc performance\n",
    "from tqdm import tqdm\n",
    "\n",
    "\n",
    "# Three different type of indicators with the 200-ticks moving window (ticks based on timefrme of dataset, in our case - 5 minutes)\n",
    "sma = SMA(200)\n",
    "ema = EMA(200)\n",
    "wma = WMA(200)\n",
    "\n",
    "logger.info('Calculating SMA...')\n",
    "for candle in tqdm(db_candles):\n",
    "    # We can build dataset of indicator output if we need, indicator does not made it by themself\n",
    "    val = sma.calculate(candle['close'])\n",
    "    \n",
    "\n",
    "logger.info('Calculating EMA...')\n",
    "for candle in tqdm(db_candles):\n",
    "    val = ema.calculate(candle['close'])\n",
    "    \n",
    "\n",
    "logger.info('Calculating WMA...')\n",
    "for candle in tqdm(db_candles):\n",
    "    val = wma.calculate(candle['close'])"
   ]
  }
 ],
 "metadata": {
  "kernelspec": {
   "display_name": "Python 3 (ipykernel)",
   "language": "python",
   "name": "python3"
  },
  "language_info": {
   "codemirror_mode": {
    "name": "ipython",
    "version": 3
   },
   "file_extension": ".py",
   "mimetype": "text/x-python",
   "name": "python",
   "nbconvert_exporter": "python",
   "pygments_lexer": "ipython3",
   "version": "3.11.0"
  }
 },
 "nbformat": 4,
 "nbformat_minor": 5
}
