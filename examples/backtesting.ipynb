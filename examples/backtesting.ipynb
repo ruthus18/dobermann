{
 "cells": [
  {
   "cell_type": "code",
   "execution_count": 1,
   "id": "b08bde59-cba0-424d-a302-19d9d956d5bc",
   "metadata": {},
   "outputs": [],
   "source": [
    "import sys\n",
    "import os\n",
    "from pathlib import Path\n",
    "sys.path.append(str(Path.cwd().parent))\n",
    "\n",
    "\n",
    "import logging.config\n",
    "from app.config import settings\n",
    "\n",
    "logging.config.dictConfig(settings.LOGGING)"
   ]
  },
  {
   "cell_type": "code",
   "execution_count": 2,
   "id": "2e8d8d1f-36f1-4d3c-85a7-7ef39af86584",
   "metadata": {},
   "outputs": [],
   "source": [
    "from dobermann import Strategy, Candle, PositionType, indicators\n",
    "\n",
    "\n",
    "class BollingerTestStrategy(Strategy):\n",
    "\n",
    "    def __init__(self):\n",
    "        super().__init__()\n",
    "\n",
    "        self.ind_bollinger = indicators.BollingerBands()\n",
    "\n",
    "    def on_candle(self, candle: Candle, _):\n",
    "        # Вычисляем текущее значение индикатора\n",
    "        lower_band, sma, upper_band = self.ind_bollinger.calculate(candle)\n",
    "        if sma is None:\n",
    "            # Индикатор еще не прогрет, ждем следующей свечи\n",
    "            return\n",
    "\n",
    "        price = candle.close\n",
    "\n",
    "        if not self.active_position and price < lower_band:\n",
    "            self.open_market_position(PositionType.LONG)\n",
    "\n",
    "        elif self.active_position and price > upper_band:\n",
    "            self.close_market_position()\n"
   ]
  },
  {
   "cell_type": "code",
   "execution_count": 3,
   "id": "3c342c2a-d292-432f-9a2b-a5c23bd465f9",
   "metadata": {},
   "outputs": [
    {
     "name": "stderr",
     "output_type": "stream",
     "text": [
      "\u001b[32mINFO    2022-01-20 08:17:21,529\u001b[33m dobermann.base: \u001b[34mFetching candles data for 1h... \u001b[0m\n",
      "8737it [00:16, 540.38it/s]\n",
      "\u001b[32mINFO    2022-01-20 08:17:37,718\u001b[33m dobermann.base: \u001b[34mPerform strategy... \u001b[0m\n",
      "100%|████████████████████████████████████████████████████████████████████████████████████████████████████████████████████████████████████████████████████| 8737/8737 [00:34<00:00, 252.45it/s]\n",
      "\u001b[32mINFO    2022-01-20 08:18:12,329\u001b[33m dobermann.base: \u001b[34mDone! \u001b[0m\n"
     ]
    }
   ],
   "source": [
    "from dobermann import backtest, Timeframe\n",
    "import datetime as dt\n",
    "\n",
    "ticker = 'BTCUSDT'\n",
    "start = dt.datetime(2021, 1, 1)\n",
    "end = dt.datetime(2021, 12, 31)\n",
    "timeframes = [Timeframe.H1]\n",
    "\n",
    "test_report = await BollingerTestStrategy().backtest(ticker, timeframes, start, end)"
   ]
  },
  {
   "cell_type": "code",
   "execution_count": 5,
   "id": "df8a2c51-9779-49cc-a41b-899811e15948",
   "metadata": {},
   "outputs": [
    {
     "data": {
      "application/vnd.plotly.v1+json": {
       "config": {
        "plotlyServerURL": "https://plot.ly"
       },
       "data": [
        {
         "line": {
          "color": "#7658e0"
         },
         "name": "Equity",
         "type": "scatter",
         "x": [
          "2021-01-01T00:00:00+05:00",
          "2021-01-05T23:00:00+05:00",
          "2021-01-14T02:00:00+05:00",
          "2021-01-18T17:00:00+05:00",
          "2021-01-22T23:00:00+05:00",
          "2021-01-24T09:00:00+05:00",
          "2021-01-25T08:00:00+05:00",
          "2021-01-27T03:00:00+05:00",
          "2021-01-28T21:00:00+05:00",
          "2021-02-01T13:00:00+05:00",
          "2021-02-05T18:00:00+05:00",
          "2021-02-08T12:00:00+05:00",
          "2021-02-11T15:00:00+05:00",
          "2021-02-14T10:00:00+05:00",
          "2021-02-16T08:00:00+05:00",
          "2021-02-24T08:00:00+05:00",
          "2021-03-01T05:00:00+05:00",
          "2021-03-03T13:00:00+05:00",
          "2021-03-06T00:00:00+05:00",
          "2021-03-07T14:00:00+05:00",
          "2021-03-13T15:00:00+05:00",
          "2021-03-17T23:00:00+05:00",
          "2021-03-20T16:00:00+05:00",
          "2021-03-24T13:00:00+05:00",
          "2021-03-26T12:00:00+05:00",
          "2021-03-29T13:00:00+05:00",
          "2021-04-02T07:00:00+05:00",
          "2021-04-05T19:00:00+05:00",
          "2021-04-08T11:00:00+05:00",
          "2021-04-16T00:00:00+05:00",
          "2021-04-26T06:00:00+05:00",
          "2021-04-30T18:00:00+05:00",
          "2021-05-03T05:00:00+05:00",
          "2021-05-05T18:00:00+05:00",
          "2021-05-07T17:00:00+05:00",
          "2021-05-10T05:00:00+05:00",
          "2021-05-12T05:00:00+05:00",
          "2021-05-22T15:00:00+05:00",
          "2021-05-25T00:00:00+05:00",
          "2021-05-26T07:00:00+05:00",
          "2021-05-30T11:00:00+05:00",
          "2021-06-02T12:00:00+05:00",
          "2021-06-05T05:00:00+05:00",
          "2021-06-07T06:00:00+05:00",
          "2021-06-09T11:00:00+05:00",
          "2021-06-13T21:00:00+05:00",
          "2021-06-17T14:00:00+05:00",
          "2021-06-19T19:00:00+05:00",
          "2021-06-24T17:00:00+05:00",
          "2021-06-27T06:00:00+05:00",
          "2021-07-03T12:00:00+05:00",
          "2021-07-06T09:00:00+05:00",
          "2021-07-09T18:00:00+05:00",
          "2021-07-11T18:00:00+05:00",
          "2021-07-18T05:00:00+05:00",
          "2021-07-21T09:00:00+05:00",
          "2021-07-28T03:00:00+05:00",
          "2021-07-31T01:00:00+05:00",
          "2021-08-04T17:00:00+05:00",
          "2021-08-05T22:00:00+05:00",
          "2021-08-11T12:00:00+05:00",
          "2021-08-13T11:00:00+05:00",
          "2021-08-16T03:00:00+05:00",
          "2021-08-17T14:00:00+05:00",
          "2021-08-18T20:00:00+05:00",
          "2021-08-19T19:00:00+05:00",
          "2021-08-23T06:00:00+05:00",
          "2021-08-27T05:00:00+05:00",
          "2021-08-30T03:00:00+05:00",
          "2021-09-01T14:00:00+05:00",
          "2021-09-03T17:00:00+05:00",
          "2021-09-09T17:00:00+05:00",
          "2021-09-12T13:00:00+05:00",
          "2021-09-14T17:00:00+05:00",
          "2021-09-18T09:00:00+05:00",
          "2021-09-23T22:00:00+05:00",
          "2021-09-30T07:00:00+05:00",
          "2021-10-03T22:00:00+05:00",
          "2021-10-08T12:00:00+05:00",
          "2021-10-10T09:00:00+05:00",
          "2021-10-15T07:00:00+05:00",
          "2021-10-18T05:00:00+05:00",
          "2021-10-25T05:00:00+05:00",
          "2021-10-28T13:00:00+05:00",
          "2021-11-01T12:00:00+05:00",
          "2021-11-07T05:00:00+05:00",
          "2021-11-13T19:00:00+05:00",
          "2021-11-15T04:00:00+05:00",
          "2021-11-20T23:00:00+05:00",
          "2021-11-23T19:00:00+05:00",
          "2021-11-27T13:00:00+05:00",
          "2021-11-29T01:00:00+05:00",
          "2021-12-07T02:00:00+05:00",
          "2021-12-10T17:00:00+05:00",
          "2021-12-15T01:00:00+05:00",
          "2021-12-16T01:00:00+05:00",
          "2021-12-19T08:00:00+05:00",
          "2021-12-21T08:00:00+05:00",
          "2021-12-23T21:00:00+05:00",
          "2021-12-27T02:00:00+05:00"
         ],
         "y": [
          1000,
          1039,
          988.4,
          967.9,
          897.1,
          928.9,
          996.6,
          1035.7,
          1095.5,
          1133.3,
          1185.9,
          1204.4,
          1219.7,
          1282.2,
          1324.1,
          1203.5,
          1155.6,
          1236.3,
          1227.5,
          1310.5,
          1421.8,
          1363,
          1408.9,
          1373.8,
          1399.7,
          1439.6,
          1477.7,
          1489.3,
          1466.3,
          1491,
          1252.6,
          1292.6,
          1313.2,
          1298.5,
          1335.4,
          1390.8,
          1402.1,
          966.9,
          1036.9,
          1111.1,
          1055.5,
          1126.8,
          1118.6,
          1129,
          1085.7,
          1108.2,
          1119,
          1074.4,
          1045,
          1016,
          1006.8,
          999.9,
          975,
          989.1,
          942.1,
          921.8,
          971.4,
          1019.8,
          982.2,
          1037,
          1071.9,
          1078,
          1111,
          1127.4,
          1147,
          1182.9,
          1220.4,
          1184.8,
          1206.3,
          1197.8,
          1248,
          1142.9,
          1144.9,
          1183.4,
          1204,
          1138.4,
          1165.1,
          1205.2,
          1223.5,
          1256.3,
          1315.4,
          1353,
          1312.6,
          1281.7,
          1310.8,
          1298.8,
          1306.8,
          1342.3,
          1244.2,
          1233.3,
          1177.5,
          1193.1,
          1065.2,
          1039.4,
          1050.4,
          1107.3,
          1097.1,
          1146.2,
          1163.9,
          1171.6
         ]
        }
       ],
       "layout": {
        "autosize": true,
        "hovermode": "x",
        "legend": {
         "orientation": "h"
        },
        "paper_bgcolor": "#ffffff",
        "plot_bgcolor": "#ffffff",
        "showlegend": true,
        "template": {
         "data": {
          "bar": [
           {
            "error_x": {
             "color": "#2a3f5f"
            },
            "error_y": {
             "color": "#2a3f5f"
            },
            "marker": {
             "line": {
              "color": "#E5ECF6",
              "width": 0.5
             },
             "pattern": {
              "fillmode": "overlay",
              "size": 10,
              "solidity": 0.2
             }
            },
            "type": "bar"
           }
          ],
          "barpolar": [
           {
            "marker": {
             "line": {
              "color": "#E5ECF6",
              "width": 0.5
             },
             "pattern": {
              "fillmode": "overlay",
              "size": 10,
              "solidity": 0.2
             }
            },
            "type": "barpolar"
           }
          ],
          "carpet": [
           {
            "aaxis": {
             "endlinecolor": "#2a3f5f",
             "gridcolor": "white",
             "linecolor": "white",
             "minorgridcolor": "white",
             "startlinecolor": "#2a3f5f"
            },
            "baxis": {
             "endlinecolor": "#2a3f5f",
             "gridcolor": "white",
             "linecolor": "white",
             "minorgridcolor": "white",
             "startlinecolor": "#2a3f5f"
            },
            "type": "carpet"
           }
          ],
          "choropleth": [
           {
            "colorbar": {
             "outlinewidth": 0,
             "ticks": ""
            },
            "type": "choropleth"
           }
          ],
          "contour": [
           {
            "colorbar": {
             "outlinewidth": 0,
             "ticks": ""
            },
            "colorscale": [
             [
              0,
              "#0d0887"
             ],
             [
              0.1111111111111111,
              "#46039f"
             ],
             [
              0.2222222222222222,
              "#7201a8"
             ],
             [
              0.3333333333333333,
              "#9c179e"
             ],
             [
              0.4444444444444444,
              "#bd3786"
             ],
             [
              0.5555555555555556,
              "#d8576b"
             ],
             [
              0.6666666666666666,
              "#ed7953"
             ],
             [
              0.7777777777777778,
              "#fb9f3a"
             ],
             [
              0.8888888888888888,
              "#fdca26"
             ],
             [
              1,
              "#f0f921"
             ]
            ],
            "type": "contour"
           }
          ],
          "contourcarpet": [
           {
            "colorbar": {
             "outlinewidth": 0,
             "ticks": ""
            },
            "type": "contourcarpet"
           }
          ],
          "heatmap": [
           {
            "colorbar": {
             "outlinewidth": 0,
             "ticks": ""
            },
            "colorscale": [
             [
              0,
              "#0d0887"
             ],
             [
              0.1111111111111111,
              "#46039f"
             ],
             [
              0.2222222222222222,
              "#7201a8"
             ],
             [
              0.3333333333333333,
              "#9c179e"
             ],
             [
              0.4444444444444444,
              "#bd3786"
             ],
             [
              0.5555555555555556,
              "#d8576b"
             ],
             [
              0.6666666666666666,
              "#ed7953"
             ],
             [
              0.7777777777777778,
              "#fb9f3a"
             ],
             [
              0.8888888888888888,
              "#fdca26"
             ],
             [
              1,
              "#f0f921"
             ]
            ],
            "type": "heatmap"
           }
          ],
          "heatmapgl": [
           {
            "colorbar": {
             "outlinewidth": 0,
             "ticks": ""
            },
            "colorscale": [
             [
              0,
              "#0d0887"
             ],
             [
              0.1111111111111111,
              "#46039f"
             ],
             [
              0.2222222222222222,
              "#7201a8"
             ],
             [
              0.3333333333333333,
              "#9c179e"
             ],
             [
              0.4444444444444444,
              "#bd3786"
             ],
             [
              0.5555555555555556,
              "#d8576b"
             ],
             [
              0.6666666666666666,
              "#ed7953"
             ],
             [
              0.7777777777777778,
              "#fb9f3a"
             ],
             [
              0.8888888888888888,
              "#fdca26"
             ],
             [
              1,
              "#f0f921"
             ]
            ],
            "type": "heatmapgl"
           }
          ],
          "histogram": [
           {
            "marker": {
             "pattern": {
              "fillmode": "overlay",
              "size": 10,
              "solidity": 0.2
             }
            },
            "type": "histogram"
           }
          ],
          "histogram2d": [
           {
            "colorbar": {
             "outlinewidth": 0,
             "ticks": ""
            },
            "colorscale": [
             [
              0,
              "#0d0887"
             ],
             [
              0.1111111111111111,
              "#46039f"
             ],
             [
              0.2222222222222222,
              "#7201a8"
             ],
             [
              0.3333333333333333,
              "#9c179e"
             ],
             [
              0.4444444444444444,
              "#bd3786"
             ],
             [
              0.5555555555555556,
              "#d8576b"
             ],
             [
              0.6666666666666666,
              "#ed7953"
             ],
             [
              0.7777777777777778,
              "#fb9f3a"
             ],
             [
              0.8888888888888888,
              "#fdca26"
             ],
             [
              1,
              "#f0f921"
             ]
            ],
            "type": "histogram2d"
           }
          ],
          "histogram2dcontour": [
           {
            "colorbar": {
             "outlinewidth": 0,
             "ticks": ""
            },
            "colorscale": [
             [
              0,
              "#0d0887"
             ],
             [
              0.1111111111111111,
              "#46039f"
             ],
             [
              0.2222222222222222,
              "#7201a8"
             ],
             [
              0.3333333333333333,
              "#9c179e"
             ],
             [
              0.4444444444444444,
              "#bd3786"
             ],
             [
              0.5555555555555556,
              "#d8576b"
             ],
             [
              0.6666666666666666,
              "#ed7953"
             ],
             [
              0.7777777777777778,
              "#fb9f3a"
             ],
             [
              0.8888888888888888,
              "#fdca26"
             ],
             [
              1,
              "#f0f921"
             ]
            ],
            "type": "histogram2dcontour"
           }
          ],
          "mesh3d": [
           {
            "colorbar": {
             "outlinewidth": 0,
             "ticks": ""
            },
            "type": "mesh3d"
           }
          ],
          "parcoords": [
           {
            "line": {
             "colorbar": {
              "outlinewidth": 0,
              "ticks": ""
             }
            },
            "type": "parcoords"
           }
          ],
          "pie": [
           {
            "automargin": true,
            "type": "pie"
           }
          ],
          "scatter": [
           {
            "marker": {
             "colorbar": {
              "outlinewidth": 0,
              "ticks": ""
             }
            },
            "type": "scatter"
           }
          ],
          "scatter3d": [
           {
            "line": {
             "colorbar": {
              "outlinewidth": 0,
              "ticks": ""
             }
            },
            "marker": {
             "colorbar": {
              "outlinewidth": 0,
              "ticks": ""
             }
            },
            "type": "scatter3d"
           }
          ],
          "scattercarpet": [
           {
            "marker": {
             "colorbar": {
              "outlinewidth": 0,
              "ticks": ""
             }
            },
            "type": "scattercarpet"
           }
          ],
          "scattergeo": [
           {
            "marker": {
             "colorbar": {
              "outlinewidth": 0,
              "ticks": ""
             }
            },
            "type": "scattergeo"
           }
          ],
          "scattergl": [
           {
            "marker": {
             "colorbar": {
              "outlinewidth": 0,
              "ticks": ""
             }
            },
            "type": "scattergl"
           }
          ],
          "scattermapbox": [
           {
            "marker": {
             "colorbar": {
              "outlinewidth": 0,
              "ticks": ""
             }
            },
            "type": "scattermapbox"
           }
          ],
          "scatterpolar": [
           {
            "marker": {
             "colorbar": {
              "outlinewidth": 0,
              "ticks": ""
             }
            },
            "type": "scatterpolar"
           }
          ],
          "scatterpolargl": [
           {
            "marker": {
             "colorbar": {
              "outlinewidth": 0,
              "ticks": ""
             }
            },
            "type": "scatterpolargl"
           }
          ],
          "scatterternary": [
           {
            "marker": {
             "colorbar": {
              "outlinewidth": 0,
              "ticks": ""
             }
            },
            "type": "scatterternary"
           }
          ],
          "surface": [
           {
            "colorbar": {
             "outlinewidth": 0,
             "ticks": ""
            },
            "colorscale": [
             [
              0,
              "#0d0887"
             ],
             [
              0.1111111111111111,
              "#46039f"
             ],
             [
              0.2222222222222222,
              "#7201a8"
             ],
             [
              0.3333333333333333,
              "#9c179e"
             ],
             [
              0.4444444444444444,
              "#bd3786"
             ],
             [
              0.5555555555555556,
              "#d8576b"
             ],
             [
              0.6666666666666666,
              "#ed7953"
             ],
             [
              0.7777777777777778,
              "#fb9f3a"
             ],
             [
              0.8888888888888888,
              "#fdca26"
             ],
             [
              1,
              "#f0f921"
             ]
            ],
            "type": "surface"
           }
          ],
          "table": [
           {
            "cells": {
             "fill": {
              "color": "#EBF0F8"
             },
             "line": {
              "color": "white"
             }
            },
            "header": {
             "fill": {
              "color": "#C8D4E3"
             },
             "line": {
              "color": "white"
             }
            },
            "type": "table"
           }
          ]
         },
         "layout": {
          "annotationdefaults": {
           "arrowcolor": "#2a3f5f",
           "arrowhead": 0,
           "arrowwidth": 1
          },
          "autotypenumbers": "strict",
          "coloraxis": {
           "colorbar": {
            "outlinewidth": 0,
            "ticks": ""
           }
          },
          "colorscale": {
           "diverging": [
            [
             0,
             "#8e0152"
            ],
            [
             0.1,
             "#c51b7d"
            ],
            [
             0.2,
             "#de77ae"
            ],
            [
             0.3,
             "#f1b6da"
            ],
            [
             0.4,
             "#fde0ef"
            ],
            [
             0.5,
             "#f7f7f7"
            ],
            [
             0.6,
             "#e6f5d0"
            ],
            [
             0.7,
             "#b8e186"
            ],
            [
             0.8,
             "#7fbc41"
            ],
            [
             0.9,
             "#4d9221"
            ],
            [
             1,
             "#276419"
            ]
           ],
           "sequential": [
            [
             0,
             "#0d0887"
            ],
            [
             0.1111111111111111,
             "#46039f"
            ],
            [
             0.2222222222222222,
             "#7201a8"
            ],
            [
             0.3333333333333333,
             "#9c179e"
            ],
            [
             0.4444444444444444,
             "#bd3786"
            ],
            [
             0.5555555555555556,
             "#d8576b"
            ],
            [
             0.6666666666666666,
             "#ed7953"
            ],
            [
             0.7777777777777778,
             "#fb9f3a"
            ],
            [
             0.8888888888888888,
             "#fdca26"
            ],
            [
             1,
             "#f0f921"
            ]
           ],
           "sequentialminus": [
            [
             0,
             "#0d0887"
            ],
            [
             0.1111111111111111,
             "#46039f"
            ],
            [
             0.2222222222222222,
             "#7201a8"
            ],
            [
             0.3333333333333333,
             "#9c179e"
            ],
            [
             0.4444444444444444,
             "#bd3786"
            ],
            [
             0.5555555555555556,
             "#d8576b"
            ],
            [
             0.6666666666666666,
             "#ed7953"
            ],
            [
             0.7777777777777778,
             "#fb9f3a"
            ],
            [
             0.8888888888888888,
             "#fdca26"
            ],
            [
             1,
             "#f0f921"
            ]
           ]
          },
          "colorway": [
           "#636efa",
           "#EF553B",
           "#00cc96",
           "#ab63fa",
           "#FFA15A",
           "#19d3f3",
           "#FF6692",
           "#B6E880",
           "#FF97FF",
           "#FECB52"
          ],
          "font": {
           "color": "#2a3f5f"
          },
          "geo": {
           "bgcolor": "white",
           "lakecolor": "white",
           "landcolor": "#E5ECF6",
           "showlakes": true,
           "showland": true,
           "subunitcolor": "white"
          },
          "hoverlabel": {
           "align": "left"
          },
          "hovermode": "closest",
          "mapbox": {
           "style": "light"
          },
          "paper_bgcolor": "white",
          "plot_bgcolor": "#E5ECF6",
          "polar": {
           "angularaxis": {
            "gridcolor": "white",
            "linecolor": "white",
            "ticks": ""
           },
           "bgcolor": "#E5ECF6",
           "radialaxis": {
            "gridcolor": "white",
            "linecolor": "white",
            "ticks": ""
           }
          },
          "scene": {
           "xaxis": {
            "backgroundcolor": "#E5ECF6",
            "gridcolor": "white",
            "gridwidth": 2,
            "linecolor": "white",
            "showbackground": true,
            "ticks": "",
            "zerolinecolor": "white"
           },
           "yaxis": {
            "backgroundcolor": "#E5ECF6",
            "gridcolor": "white",
            "gridwidth": 2,
            "linecolor": "white",
            "showbackground": true,
            "ticks": "",
            "zerolinecolor": "white"
           },
           "zaxis": {
            "backgroundcolor": "#E5ECF6",
            "gridcolor": "white",
            "gridwidth": 2,
            "linecolor": "white",
            "showbackground": true,
            "ticks": "",
            "zerolinecolor": "white"
           }
          },
          "shapedefaults": {
           "line": {
            "color": "#2a3f5f"
           }
          },
          "ternary": {
           "aaxis": {
            "gridcolor": "white",
            "linecolor": "white",
            "ticks": ""
           },
           "baxis": {
            "gridcolor": "white",
            "linecolor": "white",
            "ticks": ""
           },
           "bgcolor": "#E5ECF6",
           "caxis": {
            "gridcolor": "white",
            "linecolor": "white",
            "ticks": ""
           }
          },
          "title": {
           "x": 0.05
          },
          "xaxis": {
           "automargin": true,
           "gridcolor": "white",
           "linecolor": "white",
           "ticks": "",
           "title": {
            "standoff": 15
           },
           "zerolinecolor": "white",
           "zerolinewidth": 2
          },
          "yaxis": {
           "automargin": true,
           "gridcolor": "white",
           "linecolor": "white",
           "ticks": "",
           "title": {
            "standoff": 15
           },
           "zerolinecolor": "white",
           "zerolinewidth": 2
          }
         }
        },
        "xaxis": {
         "autorange": true,
         "color": "grey",
         "linecolor": "#f1f1f1",
         "mirror": true,
         "range": [
          "2021-01-01",
          "2021-12-27 02:00"
         ],
         "showline": true,
         "showspikes": true,
         "spikecolor": "grey",
         "spikedash": "dash",
         "spikemode": "across",
         "spikesnap": "cursor",
         "spikethickness": 1,
         "type": "date"
        },
        "yaxis": {
         "autorange": true,
         "color": "grey",
         "gridcolor": "#f1f1f1",
         "linecolor": "#f1f1f1",
         "mirror": true,
         "range": [
          864.1055555555556,
          1523.9944444444445
         ],
         "showline": true,
         "tickformat": ",.0f",
         "type": "linear"
        }
       }
      },
      "image/png": "[encoded data removed]",
      "text/html": [
       "<div>                            <div id=\"d8771db4-2226-45f3-a26f-cdadc629f1ca\" class=\"plotly-graph-div\" style=\"height:525px; width:100%;\"></div>            <script type=\"text/javascript\">                require([\"plotly\"], function(Plotly) {                    window.PLOTLYENV=window.PLOTLYENV || {};                                    if (document.getElementById(\"d8771db4-2226-45f3-a26f-cdadc629f1ca\")) {                    Plotly.newPlot(                        \"d8771db4-2226-45f3-a26f-cdadc629f1ca\",                        [{\"line\":{\"color\":\"#7658e0\"},\"name\":\"Equity\",\"x\":[\"2021-01-01T00:00:00+05:00\",\"2021-01-05T23:00:00+05:00\",\"2021-01-14T02:00:00+05:00\",\"2021-01-18T17:00:00+05:00\",\"2021-01-22T23:00:00+05:00\",\"2021-01-24T09:00:00+05:00\",\"2021-01-25T08:00:00+05:00\",\"2021-01-27T03:00:00+05:00\",\"2021-01-28T21:00:00+05:00\",\"2021-02-01T13:00:00+05:00\",\"2021-02-05T18:00:00+05:00\",\"2021-02-08T12:00:00+05:00\",\"2021-02-11T15:00:00+05:00\",\"2021-02-14T10:00:00+05:00\",\"2021-02-16T08:00:00+05:00\",\"2021-02-24T08:00:00+05:00\",\"2021-03-01T05:00:00+05:00\",\"2021-03-03T13:00:00+05:00\",\"2021-03-06T00:00:00+05:00\",\"2021-03-07T14:00:00+05:00\",\"2021-03-13T15:00:00+05:00\",\"2021-03-17T23:00:00+05:00\",\"2021-03-20T16:00:00+05:00\",\"2021-03-24T13:00:00+05:00\",\"2021-03-26T12:00:00+05:00\",\"2021-03-29T13:00:00+05:00\",\"2021-04-02T07:00:00+05:00\",\"2021-04-05T19:00:00+05:00\",\"2021-04-08T11:00:00+05:00\",\"2021-04-16T00:00:00+05:00\",\"2021-04-26T06:00:00+05:00\",\"2021-04-30T18:00:00+05:00\",\"2021-05-03T05:00:00+05:00\",\"2021-05-05T18:00:00+05:00\",\"2021-05-07T17:00:00+05:00\",\"2021-05-10T05:00:00+05:00\",\"2021-05-12T05:00:00+05:00\",\"2021-05-22T15:00:00+05:00\",\"2021-05-25T00:00:00+05:00\",\"2021-05-26T07:00:00+05:00\",\"2021-05-30T11:00:00+05:00\",\"2021-06-02T12:00:00+05:00\",\"2021-06-05T05:00:00+05:00\",\"2021-06-07T06:00:00+05:00\",\"2021-06-09T11:00:00+05:00\",\"2021-06-13T21:00:00+05:00\",\"2021-06-17T14:00:00+05:00\",\"2021-06-19T19:00:00+05:00\",\"2021-06-24T17:00:00+05:00\",\"2021-06-27T06:00:00+05:00\",\"2021-07-03T12:00:00+05:00\",\"2021-07-06T09:00:00+05:00\",\"2021-07-09T18:00:00+05:00\",\"2021-07-11T18:00:00+05:00\",\"2021-07-18T05:00:00+05:00\",\"2021-07-21T09:00:00+05:00\",\"2021-07-28T03:00:00+05:00\",\"2021-07-31T01:00:00+05:00\",\"2021-08-04T17:00:00+05:00\",\"2021-08-05T22:00:00+05:00\",\"2021-08-11T12:00:00+05:00\",\"2021-08-13T11:00:00+05:00\",\"2021-08-16T03:00:00+05:00\",\"2021-08-17T14:00:00+05:00\",\"2021-08-18T20:00:00+05:00\",\"2021-08-19T19:00:00+05:00\",\"2021-08-23T06:00:00+05:00\",\"2021-08-27T05:00:00+05:00\",\"2021-08-30T03:00:00+05:00\",\"2021-09-01T14:00:00+05:00\",\"2021-09-03T17:00:00+05:00\",\"2021-09-09T17:00:00+05:00\",\"2021-09-12T13:00:00+05:00\",\"2021-09-14T17:00:00+05:00\",\"2021-09-18T09:00:00+05:00\",\"2021-09-23T22:00:00+05:00\",\"2021-09-30T07:00:00+05:00\",\"2021-10-03T22:00:00+05:00\",\"2021-10-08T12:00:00+05:00\",\"2021-10-10T09:00:00+05:00\",\"2021-10-15T07:00:00+05:00\",\"2021-10-18T05:00:00+05:00\",\"2021-10-25T05:00:00+05:00\",\"2021-10-28T13:00:00+05:00\",\"2021-11-01T12:00:00+05:00\",\"2021-11-07T05:00:00+05:00\",\"2021-11-13T19:00:00+05:00\",\"2021-11-15T04:00:00+05:00\",\"2021-11-20T23:00:00+05:00\",\"2021-11-23T19:00:00+05:00\",\"2021-11-27T13:00:00+05:00\",\"2021-11-29T01:00:00+05:00\",\"2021-12-07T02:00:00+05:00\",\"2021-12-10T17:00:00+05:00\",\"2021-12-15T01:00:00+05:00\",\"2021-12-16T01:00:00+05:00\",\"2021-12-19T08:00:00+05:00\",\"2021-12-21T08:00:00+05:00\",\"2021-12-23T21:00:00+05:00\",\"2021-12-27T02:00:00+05:00\"],\"y\":[1000.0,1039.0,988.4,967.9,897.1,928.9,996.6,1035.7,1095.5,1133.3,1185.9,1204.4,1219.7,1282.2,1324.1,1203.5,1155.6,1236.3,1227.5,1310.5,1421.8,1363.0,1408.9,1373.8,1399.7,1439.6,1477.7,1489.3,1466.3,1491.0,1252.6,1292.6,1313.2,1298.5,1335.4,1390.8,1402.1,966.9,1036.9,1111.1,1055.5,1126.8,1118.6,1129.0,1085.7,1108.2,1119.0,1074.4,1045.0,1016.0,1006.8,999.9,975.0,989.1,942.1,921.8,971.4,1019.8,982.2,1037.0,1071.9,1078.0,1111.0,1127.4,1147.0,1182.9,1220.4,1184.8,1206.3,1197.8,1248.0,1142.9,1144.9,1183.4,1204.0,1138.4,1165.1,1205.2,1223.5,1256.3,1315.4,1353.0,1312.6,1281.7,1310.8,1298.8,1306.8,1342.3,1244.2,1233.3,1177.5,1193.1,1065.2,1039.4,1050.4,1107.3,1097.1,1146.2,1163.9,1171.6],\"type\":\"scatter\"}],                        {\"template\":{\"data\":{\"bar\":[{\"error_x\":{\"color\":\"#2a3f5f\"},\"error_y\":{\"color\":\"#2a3f5f\"},\"marker\":{\"line\":{\"color\":\"#E5ECF6\",\"width\":0.5},\"pattern\":{\"fillmode\":\"overlay\",\"size\":10,\"solidity\":0.2}},\"type\":\"bar\"}],\"barpolar\":[{\"marker\":{\"line\":{\"color\":\"#E5ECF6\",\"width\":0.5},\"pattern\":{\"fillmode\":\"overlay\",\"size\":10,\"solidity\":0.2}},\"type\":\"barpolar\"}],\"carpet\":[{\"aaxis\":{\"endlinecolor\":\"#2a3f5f\",\"gridcolor\":\"white\",\"linecolor\":\"white\",\"minorgridcolor\":\"white\",\"startlinecolor\":\"#2a3f5f\"},\"baxis\":{\"endlinecolor\":\"#2a3f5f\",\"gridcolor\":\"white\",\"linecolor\":\"white\",\"minorgridcolor\":\"white\",\"startlinecolor\":\"#2a3f5f\"},\"type\":\"carpet\"}],\"choropleth\":[{\"colorbar\":{\"outlinewidth\":0,\"ticks\":\"\"},\"type\":\"choropleth\"}],\"contour\":[{\"colorbar\":{\"outlinewidth\":0,\"ticks\":\"\"},\"colorscale\":[[0.0,\"#0d0887\"],[0.1111111111111111,\"#46039f\"],[0.2222222222222222,\"#7201a8\"],[0.3333333333333333,\"#9c179e\"],[0.4444444444444444,\"#bd3786\"],[0.5555555555555556,\"#d8576b\"],[0.6666666666666666,\"#ed7953\"],[0.7777777777777778,\"#fb9f3a\"],[0.8888888888888888,\"#fdca26\"],[1.0,\"#f0f921\"]],\"type\":\"contour\"}],\"contourcarpet\":[{\"colorbar\":{\"outlinewidth\":0,\"ticks\":\"\"},\"type\":\"contourcarpet\"}],\"heatmap\":[{\"colorbar\":{\"outlinewidth\":0,\"ticks\":\"\"},\"colorscale\":[[0.0,\"#0d0887\"],[0.1111111111111111,\"#46039f\"],[0.2222222222222222,\"#7201a8\"],[0.3333333333333333,\"#9c179e\"],[0.4444444444444444,\"#bd3786\"],[0.5555555555555556,\"#d8576b\"],[0.6666666666666666,\"#ed7953\"],[0.7777777777777778,\"#fb9f3a\"],[0.8888888888888888,\"#fdca26\"],[1.0,\"#f0f921\"]],\"type\":\"heatmap\"}],\"heatmapgl\":[{\"colorbar\":{\"outlinewidth\":0,\"ticks\":\"\"},\"colorscale\":[[0.0,\"#0d0887\"],[0.1111111111111111,\"#46039f\"],[0.2222222222222222,\"#7201a8\"],[0.3333333333333333,\"#9c179e\"],[0.4444444444444444,\"#bd3786\"],[0.5555555555555556,\"#d8576b\"],[0.6666666666666666,\"#ed7953\"],[0.7777777777777778,\"#fb9f3a\"],[0.8888888888888888,\"#fdca26\"],[1.0,\"#f0f921\"]],\"type\":\"heatmapgl\"}],\"histogram\":[{\"marker\":{\"pattern\":{\"fillmode\":\"overlay\",\"size\":10,\"solidity\":0.2}},\"type\":\"histogram\"}],\"histogram2d\":[{\"colorbar\":{\"outlinewidth\":0,\"ticks\":\"\"},\"colorscale\":[[0.0,\"#0d0887\"],[0.1111111111111111,\"#46039f\"],[0.2222222222222222,\"#7201a8\"],[0.3333333333333333,\"#9c179e\"],[0.4444444444444444,\"#bd3786\"],[0.5555555555555556,\"#d8576b\"],[0.6666666666666666,\"#ed7953\"],[0.7777777777777778,\"#fb9f3a\"],[0.8888888888888888,\"#fdca26\"],[1.0,\"#f0f921\"]],\"type\":\"histogram2d\"}],\"histogram2dcontour\":[{\"colorbar\":{\"outlinewidth\":0,\"ticks\":\"\"},\"colorscale\":[[0.0,\"#0d0887\"],[0.1111111111111111,\"#46039f\"],[0.2222222222222222,\"#7201a8\"],[0.3333333333333333,\"#9c179e\"],[0.4444444444444444,\"#bd3786\"],[0.5555555555555556,\"#d8576b\"],[0.6666666666666666,\"#ed7953\"],[0.7777777777777778,\"#fb9f3a\"],[0.8888888888888888,\"#fdca26\"],[1.0,\"#f0f921\"]],\"type\":\"histogram2dcontour\"}],\"mesh3d\":[{\"colorbar\":{\"outlinewidth\":0,\"ticks\":\"\"},\"type\":\"mesh3d\"}],\"parcoords\":[{\"line\":{\"colorbar\":{\"outlinewidth\":0,\"ticks\":\"\"}},\"type\":\"parcoords\"}],\"pie\":[{\"automargin\":true,\"type\":\"pie\"}],\"scatter\":[{\"marker\":{\"colorbar\":{\"outlinewidth\":0,\"ticks\":\"\"}},\"type\":\"scatter\"}],\"scatter3d\":[{\"line\":{\"colorbar\":{\"outlinewidth\":0,\"ticks\":\"\"}},\"marker\":{\"colorbar\":{\"outlinewidth\":0,\"ticks\":\"\"}},\"type\":\"scatter3d\"}],\"scattercarpet\":[{\"marker\":{\"colorbar\":{\"outlinewidth\":0,\"ticks\":\"\"}},\"type\":\"scattercarpet\"}],\"scattergeo\":[{\"marker\":{\"colorbar\":{\"outlinewidth\":0,\"ticks\":\"\"}},\"type\":\"scattergeo\"}],\"scattergl\":[{\"marker\":{\"colorbar\":{\"outlinewidth\":0,\"ticks\":\"\"}},\"type\":\"scattergl\"}],\"scattermapbox\":[{\"marker\":{\"colorbar\":{\"outlinewidth\":0,\"ticks\":\"\"}},\"type\":\"scattermapbox\"}],\"scatterpolar\":[{\"marker\":{\"colorbar\":{\"outlinewidth\":0,\"ticks\":\"\"}},\"type\":\"scatterpolar\"}],\"scatterpolargl\":[{\"marker\":{\"colorbar\":{\"outlinewidth\":0,\"ticks\":\"\"}},\"type\":\"scatterpolargl\"}],\"scatterternary\":[{\"marker\":{\"colorbar\":{\"outlinewidth\":0,\"ticks\":\"\"}},\"type\":\"scatterternary\"}],\"surface\":[{\"colorbar\":{\"outlinewidth\":0,\"ticks\":\"\"},\"colorscale\":[[0.0,\"#0d0887\"],[0.1111111111111111,\"#46039f\"],[0.2222222222222222,\"#7201a8\"],[0.3333333333333333,\"#9c179e\"],[0.4444444444444444,\"#bd3786\"],[0.5555555555555556,\"#d8576b\"],[0.6666666666666666,\"#ed7953\"],[0.7777777777777778,\"#fb9f3a\"],[0.8888888888888888,\"#fdca26\"],[1.0,\"#f0f921\"]],\"type\":\"surface\"}],\"table\":[{\"cells\":{\"fill\":{\"color\":\"#EBF0F8\"},\"line\":{\"color\":\"white\"}},\"header\":{\"fill\":{\"color\":\"#C8D4E3\"},\"line\":{\"color\":\"white\"}},\"type\":\"table\"}]},\"layout\":{\"annotationdefaults\":{\"arrowcolor\":\"#2a3f5f\",\"arrowhead\":0,\"arrowwidth\":1},\"autotypenumbers\":\"strict\",\"coloraxis\":{\"colorbar\":{\"outlinewidth\":0,\"ticks\":\"\"}},\"colorscale\":{\"diverging\":[[0,\"#8e0152\"],[0.1,\"#c51b7d\"],[0.2,\"#de77ae\"],[0.3,\"#f1b6da\"],[0.4,\"#fde0ef\"],[0.5,\"#f7f7f7\"],[0.6,\"#e6f5d0\"],[0.7,\"#b8e186\"],[0.8,\"#7fbc41\"],[0.9,\"#4d9221\"],[1,\"#276419\"]],\"sequential\":[[0.0,\"#0d0887\"],[0.1111111111111111,\"#46039f\"],[0.2222222222222222,\"#7201a8\"],[0.3333333333333333,\"#9c179e\"],[0.4444444444444444,\"#bd3786\"],[0.5555555555555556,\"#d8576b\"],[0.6666666666666666,\"#ed7953\"],[0.7777777777777778,\"#fb9f3a\"],[0.8888888888888888,\"#fdca26\"],[1.0,\"#f0f921\"]],\"sequentialminus\":[[0.0,\"#0d0887\"],[0.1111111111111111,\"#46039f\"],[0.2222222222222222,\"#7201a8\"],[0.3333333333333333,\"#9c179e\"],[0.4444444444444444,\"#bd3786\"],[0.5555555555555556,\"#d8576b\"],[0.6666666666666666,\"#ed7953\"],[0.7777777777777778,\"#fb9f3a\"],[0.8888888888888888,\"#fdca26\"],[1.0,\"#f0f921\"]]},\"colorway\":[\"#636efa\",\"#EF553B\",\"#00cc96\",\"#ab63fa\",\"#FFA15A\",\"#19d3f3\",\"#FF6692\",\"#B6E880\",\"#FF97FF\",\"#FECB52\"],\"font\":{\"color\":\"#2a3f5f\"},\"geo\":{\"bgcolor\":\"white\",\"lakecolor\":\"white\",\"landcolor\":\"#E5ECF6\",\"showlakes\":true,\"showland\":true,\"subunitcolor\":\"white\"},\"hoverlabel\":{\"align\":\"left\"},\"hovermode\":\"closest\",\"mapbox\":{\"style\":\"light\"},\"paper_bgcolor\":\"white\",\"plot_bgcolor\":\"#E5ECF6\",\"polar\":{\"angularaxis\":{\"gridcolor\":\"white\",\"linecolor\":\"white\",\"ticks\":\"\"},\"bgcolor\":\"#E5ECF6\",\"radialaxis\":{\"gridcolor\":\"white\",\"linecolor\":\"white\",\"ticks\":\"\"}},\"scene\":{\"xaxis\":{\"backgroundcolor\":\"#E5ECF6\",\"gridcolor\":\"white\",\"gridwidth\":2,\"linecolor\":\"white\",\"showbackground\":true,\"ticks\":\"\",\"zerolinecolor\":\"white\"},\"yaxis\":{\"backgroundcolor\":\"#E5ECF6\",\"gridcolor\":\"white\",\"gridwidth\":2,\"linecolor\":\"white\",\"showbackground\":true,\"ticks\":\"\",\"zerolinecolor\":\"white\"},\"zaxis\":{\"backgroundcolor\":\"#E5ECF6\",\"gridcolor\":\"white\",\"gridwidth\":2,\"linecolor\":\"white\",\"showbackground\":true,\"ticks\":\"\",\"zerolinecolor\":\"white\"}},\"shapedefaults\":{\"line\":{\"color\":\"#2a3f5f\"}},\"ternary\":{\"aaxis\":{\"gridcolor\":\"white\",\"linecolor\":\"white\",\"ticks\":\"\"},\"baxis\":{\"gridcolor\":\"white\",\"linecolor\":\"white\",\"ticks\":\"\"},\"bgcolor\":\"#E5ECF6\",\"caxis\":{\"gridcolor\":\"white\",\"linecolor\":\"white\",\"ticks\":\"\"}},\"title\":{\"x\":0.05},\"xaxis\":{\"automargin\":true,\"gridcolor\":\"white\",\"linecolor\":\"white\",\"ticks\":\"\",\"title\":{\"standoff\":15},\"zerolinecolor\":\"white\",\"zerolinewidth\":2},\"yaxis\":{\"automargin\":true,\"gridcolor\":\"white\",\"linecolor\":\"white\",\"ticks\":\"\",\"title\":{\"standoff\":15},\"zerolinecolor\":\"white\",\"zerolinewidth\":2}}},\"legend\":{\"orientation\":\"h\"},\"yaxis\":{\"tickformat\":\",.0f\",\"gridcolor\":\"#f1f1f1\",\"showline\":true,\"mirror\":true,\"linecolor\":\"#f1f1f1\",\"color\":\"grey\"},\"xaxis\":{\"showline\":true,\"mirror\":true,\"linecolor\":\"#f1f1f1\",\"color\":\"grey\",\"showspikes\":true,\"spikedash\":\"dash\",\"spikemode\":\"across\",\"spikesnap\":\"cursor\",\"spikecolor\":\"grey\",\"spikethickness\":1},\"plot_bgcolor\":\"#ffffff\",\"paper_bgcolor\":\"#ffffff\",\"showlegend\":true,\"hovermode\":\"x\"},                        {\"responsive\": true}                    ).then(function(){\n",
       "                            \n",
       "var gd = document.getElementById('d8771db4-2226-45f3-a26f-cdadc629f1ca');\n",
       "var x = new MutationObserver(function (mutations, observer) {{\n",
       "        var display = window.getComputedStyle(gd).display;\n",
       "        if (!display || display === 'none') {{\n",
       "            console.log([gd, 'removed!']);\n",
       "            Plotly.purge(gd);\n",
       "            observer.disconnect();\n",
       "        }}\n",
       "}});\n",
       "\n",
       "// Listen for the removal of the full notebook cells\n",
       "var notebookContainer = gd.closest('#notebook-container');\n",
       "if (notebookContainer) {{\n",
       "    x.observe(notebookContainer, {childList: true});\n",
       "}}\n",
       "\n",
       "// Listen for the clearing of the current output cell\n",
       "var outputEl = gd.closest('.output');\n",
       "if (outputEl) {{\n",
       "    x.observe(outputEl, {childList: true});\n",
       "}}\n",
       "\n",
       "                        })                };                });            </script>        </div>"
      ]
     },
     "metadata": {},
     "output_type": "display_data"
    }
   ],
   "source": [
    "test_report.equity_graph.show()"
   ]
  },
  {
   "cell_type": "code",
   "execution_count": 6,
   "id": "039a7951-b957-4193-b575-221a7093d84b",
   "metadata": {},
   "outputs": [
    {
     "data": {
      "text/plain": [
       "{'mean_profit_ratio': Decimal('1.00314214'),\n",
       " 'gmean_profit_ratio': Decimal('1.00160152'),\n",
       " 'max_dropdown': Decimal('0.68959540'),\n",
       " 'total_trades': 99,\n",
       " 'success_trades': 62,\n",
       " 'fail_trades': 37,\n",
       " 'success_trades_ratio': Decimal('0.62626262')}"
      ]
     },
     "execution_count": 6,
     "metadata": {},
     "output_type": "execute_result"
    }
   ],
   "source": [
    "test_report.summary"
   ]
  },
  {
   "cell_type": "code",
   "execution_count": null,
   "id": "8761fc6a-70a7-48ef-b938-7b8162bbfab0",
   "metadata": {},
   "outputs": [],
   "source": []
  }
 ],
 "metadata": {
  "kernelspec": {
   "display_name": "Python 3 (ipykernel)",
   "language": "python",
   "name": "python3"
  },
  "language_info": {
   "codemirror_mode": {
    "name": "ipython",
    "version": 3
   },
   "file_extension": ".py",
   "mimetype": "text/x-python",
   "name": "python",
   "nbconvert_exporter": "python",
   "pygments_lexer": "ipython3",
   "version": "3.9.7"
  }
 },
 "nbformat": 4,
 "nbformat_minor": 5
}
