{
 "cells": [
  {
   "cell_type": "code",
   "execution_count": 1,
   "id": "b08bde59-cba0-424d-a302-19d9d956d5bc",
   "metadata": {},
   "outputs": [],
   "source": [
    "import sys\n",
    "import os\n",
    "from pathlib import Path\n",
    "sys.path.append(str(Path.cwd().parent))\n",
    "\n",
    "\n",
    "import logging.config\n",
    "from dobermann.config import settings\n",
    "\n",
    "logging.config.dictConfig(settings.LOGGING)"
   ]
  },
  {
   "cell_type": "code",
   "execution_count": 2,
   "id": "2e8d8d1f-36f1-4d3c-85a7-7ef39af86584",
   "metadata": {},
   "outputs": [],
   "source": [
    "from dobermann import indicators\n",
    "from dobermann.btest import Strategy, Candle, PositionType\n",
    "\n",
    "\n",
    "class BollingerTestStrategy(Strategy):\n",
    "\n",
    "    def __init__(self):\n",
    "        super().__init__()\n",
    "\n",
    "        self.ind_bollinger = indicators.BollingerBands()\n",
    "\n",
    "    def on_candle(self, candle: Candle):\n",
    "        # Get current values of indicator\n",
    "        lower_band, sma, upper_band = self.ind_bollinger.calculate(candle)\n",
    "        if sma is None:\n",
    "            # Индикатор еще не прогрет, ждем следующей свечи\n",
    "            return\n",
    "\n",
    "        price = candle.close\n",
    "\n",
    "        if not self.exchange.active_position and price < lower_band:\n",
    "            self.exchange.open_market_position(PositionType.LONG)\n",
    "\n",
    "        elif self.exchange.active_position and price > upper_band:\n",
    "            self.exchange.close_market_position()\n"
   ]
  },
  {
   "cell_type": "code",
   "execution_count": 3,
   "id": "3c342c2a-d292-432f-9a2b-a5c23bd465f9",
   "metadata": {},
   "outputs": [
    {
     "name": "stderr",
     "output_type": "stream",
     "text": [
      "\u001b[32mINFO    2022-07-10 16:45:22,515\u001b[33m dobermann.btest: \u001b[34mFetching candles data... \u001b[0m\n",
      "2161it [00:02, 783.59it/s]\n",
      "\u001b[32mINFO    2022-07-10 16:45:25,292\u001b[33m dobermann.btest: \u001b[34mPerform strategy... \u001b[0m\n",
      "100%|██████████████████████████████████████████████████████████████████████████████████████████████████████████████████████████████████████████████████████████| 2161/2161 [00:07<00:00, 297.80it/s]\n",
      "\u001b[32mINFO    2022-07-10 16:45:32,551\u001b[33m dobermann.btest: \u001b[34mDone! \u001b[0m\n"
     ]
    }
   ],
   "source": [
    "from dobermann.btest import backtest, Timeframe\n",
    "import datetime as dt\n",
    "\n",
    "ticker = 'BTCUSDT'\n",
    "start = dt.datetime(2022, 1, 1)\n",
    "end = dt.datetime(2022, 4, 1)\n",
    "timeframe = Timeframe.H1\n",
    "\n",
    "test_report = await BollingerTestStrategy().backtest(ticker, timeframe, start, end)"
   ]
  },
  {
   "cell_type": "code",
   "execution_count": 4,
   "id": "df8a2c51-9779-49cc-a41b-899811e15948",
   "metadata": {},
   "outputs": [
    {
     "data": {
      "text/html": [
       "\n",
       "<div id=\"altair-viz-b0d6bdfe106549ac9f93d07e7519ccff\"></div>\n",
       "<script type=\"text/javascript\">\n",
       "  var VEGA_DEBUG = (typeof VEGA_DEBUG == \"undefined\") ? {} : VEGA_DEBUG;\n",
       "  (function(spec, embedOpt){\n",
       "    let outputDiv = document.currentScript.previousElementSibling;\n",
       "    if (outputDiv.id !== \"altair-viz-b0d6bdfe106549ac9f93d07e7519ccff\") {\n",
       "      outputDiv = document.getElementById(\"altair-viz-b0d6bdfe106549ac9f93d07e7519ccff\");\n",
       "    }\n",
       "    const paths = {\n",
       "      \"vega\": \"https://cdn.jsdelivr.net/npm//vega@5?noext\",\n",
       "      \"vega-lib\": \"https://cdn.jsdelivr.net/npm//vega-lib?noext\",\n",
       "      \"vega-lite\": \"https://cdn.jsdelivr.net/npm//vega-lite@4.17.0?noext\",\n",
       "      \"vega-embed\": \"https://cdn.jsdelivr.net/npm//vega-embed@6?noext\",\n",
       "    };\n",
       "\n",
       "    function maybeLoadScript(lib, version) {\n",
       "      var key = `${lib.replace(\"-\", \"\")}_version`;\n",
       "      return (VEGA_DEBUG[key] == version) ?\n",
       "        Promise.resolve(paths[lib]) :\n",
       "        new Promise(function(resolve, reject) {\n",
       "          var s = document.createElement('script');\n",
       "          document.getElementsByTagName(\"head\")[0].appendChild(s);\n",
       "          s.async = true;\n",
       "          s.onload = () => {\n",
       "            VEGA_DEBUG[key] = version;\n",
       "            return resolve(paths[lib]);\n",
       "          };\n",
       "          s.onerror = () => reject(`Error loading script: ${paths[lib]}`);\n",
       "          s.src = paths[lib];\n",
       "        });\n",
       "    }\n",
       "\n",
       "    function showError(err) {\n",
       "      outputDiv.innerHTML = `<div class=\"error\" style=\"color:red;\">${err}</div>`;\n",
       "      throw err;\n",
       "    }\n",
       "\n",
       "    function displayChart(vegaEmbed) {\n",
       "      vegaEmbed(outputDiv, spec, embedOpt)\n",
       "        .catch(err => showError(`Javascript Error: ${err.message}<br>This usually means there's a typo in your chart specification. See the javascript console for the full traceback.`));\n",
       "    }\n",
       "\n",
       "    if(typeof define === \"function\" && define.amd) {\n",
       "      requirejs.config({paths});\n",
       "      require([\"vega-embed\"], displayChart, err => showError(`Error loading script: ${err.message}`));\n",
       "    } else {\n",
       "      maybeLoadScript(\"vega\", \"5\")\n",
       "        .then(() => maybeLoadScript(\"vega-lite\", \"4.17.0\"))\n",
       "        .then(() => maybeLoadScript(\"vega-embed\", \"6\"))\n",
       "        .catch(showError)\n",
       "        .then(() => displayChart(vegaEmbed));\n",
       "    }\n",
       "  })({\"config\": {\"view\": {\"continuousWidth\": 400, \"continuousHeight\": 300}}, \"layer\": [{\"data\": {\"name\": \"data-52f0ef92250f9f200607da2918d31a19\"}, \"mark\": \"line\", \"encoding\": {\"x\": {\"axis\": {\"grid\": false, \"title\": \"\"}, \"field\": \"Time\", \"type\": \"temporal\"}, \"y\": {\"axis\": {\"title\": \"\"}, \"field\": \"Equity\", \"scale\": {\"domain\": [750.0, 1150.0]}, \"type\": \"quantitative\"}}, \"transform\": [{\"filter\": {\"field\": \"Equity\", \"valid\": true}}]}, {\"data\": {\"name\": \"data-ac0604903442ed28ac7caeaeddb9ad1b\"}, \"mark\": {\"type\": \"rule\", \"size\": 0.2}, \"encoding\": {\"color\": {\"value\": \"red\"}, \"y\": {\"field\": \"y\", \"type\": \"quantitative\"}}}, {\"data\": {\"name\": \"data-52f0ef92250f9f200607da2918d31a19\"}, \"mark\": {\"type\": \"rule\", \"size\": 10}, \"encoding\": {\"opacity\": {\"value\": 0}, \"tooltip\": [{\"field\": \"Time\", \"format\": \"%d %b %Y, %H:%M\", \"type\": \"temporal\"}, {\"field\": \"Equity\", \"format\": \".2f\", \"type\": \"quantitative\"}], \"x\": {\"field\": \"Time\", \"type\": \"temporal\"}}, \"selection\": {\"selector001\": {\"type\": \"single\", \"nearest\": true, \"on\": \"mouseover\", \"fields\": [\"Time\"], \"empty\": \"none\"}}}, {\"data\": {\"name\": \"data-52f0ef92250f9f200607da2918d31a19\"}, \"mark\": {\"type\": \"rule\", \"opacity\": 0.25, \"size\": 0.25}, \"encoding\": {\"x\": {\"field\": \"Time\", \"type\": \"temporal\"}}, \"transform\": [{\"filter\": {\"selection\": \"selector001\"}}]}, {\"data\": {\"name\": \"data-52f0ef92250f9f200607da2918d31a19\"}, \"mark\": {\"type\": \"point\", \"filled\": true}, \"encoding\": {\"opacity\": {\"condition\": {\"value\": 1, \"selection\": \"selector001\"}, \"value\": 0}, \"x\": {\"axis\": {\"grid\": false, \"title\": \"\"}, \"field\": \"Time\", \"type\": \"temporal\"}, \"y\": {\"axis\": {\"title\": \"\"}, \"field\": \"Equity\", \"scale\": {\"domain\": [750.0, 1150.0]}, \"type\": \"quantitative\"}}, \"transform\": [{\"filter\": {\"field\": \"Equity\", \"valid\": true}}]}], \"height\": 300, \"title\": \"Equity\", \"width\": 1000, \"$schema\": \"https://vega.github.io/schema/vega-lite/v4.17.0.json\", \"datasets\": {\"data-52f0ef92250f9f200607da2918d31a19\": [{\"Time\": \"2022-01-01T00:00:00+05:00\", \"Equity\": 1000.0}, {\"Time\": \"2022-01-04T18:00:00+05:00\", \"Equity\": 1004.4}, {\"Time\": \"2022-01-10T00:00:00+05:00\", \"Equity\": 936.3}, {\"Time\": \"2022-01-11T21:00:00+05:00\", \"Equity\": 975.6}, {\"Time\": \"2022-01-15T20:00:00+05:00\", \"Equity\": 979.4}, {\"Time\": \"2022-01-19T03:00:00+05:00\", \"Equity\": 974.6}, {\"Time\": \"2022-01-24T04:00:00+05:00\", \"Equity\": 867.7}, {\"Time\": \"2022-01-25T01:00:00+05:00\", \"Equity\": 969.6}, {\"Time\": \"2022-01-28T04:00:00+05:00\", \"Equity\": 990.7}, {\"Time\": \"2022-01-31T21:00:00+05:00\", \"Equity\": 1011.0}, {\"Time\": \"2022-02-04T04:00:00+05:00\", \"Equity\": 999.4}, {\"Time\": \"2022-02-07T04:00:00+05:00\", \"Equity\": 1024.2}, {\"Time\": \"2022-02-10T01:00:00+05:00\", \"Equity\": 1064.7}, {\"Time\": \"2022-02-12T21:00:00+05:00\", \"Equity\": 1056.2}, {\"Time\": \"2022-02-15T06:00:00+05:00\", \"Equity\": 1092.5}, {\"Time\": \"2022-02-21T06:00:00+05:00\", \"Equity\": 978.4}, {\"Time\": \"2022-02-23T13:00:00+05:00\", \"Equity\": 1006.2}, {\"Time\": \"2022-02-25T00:00:00+05:00\", \"Equity\": 1019.9}, {\"Time\": \"2022-02-28T19:00:00+05:00\", \"Equity\": 1060.8}, {\"Time\": \"2022-03-02T19:00:00+05:00\", \"Equity\": 1091.6}, {\"Time\": \"2022-03-05T22:00:00+05:00\", \"Equity\": 1010.0}, {\"Time\": \"2022-03-09T07:00:00+05:00\", \"Equity\": 1027.9}, {\"Time\": \"2022-03-11T16:00:00+05:00\", \"Equity\": 1000.7}, {\"Time\": \"2022-03-15T04:00:00+05:00\", \"Equity\": 1022.1}, {\"Time\": \"2022-03-18T21:00:00+05:00\", \"Equity\": 1048.5}, {\"Time\": \"2022-03-22T07:00:00+05:00\", \"Equity\": 1053.4}, {\"Time\": \"2022-03-24T04:00:00+05:00\", \"Equity\": 1072.8}, {\"Time\": \"2022-03-30T22:00:00+05:00\", \"Equity\": 1089.8}], \"data-ac0604903442ed28ac7caeaeddb9ad1b\": [{\"y\": 1000}]}}, {\"mode\": \"vega-lite\"});\n",
       "</script>"
      ],
      "text/plain": [
       "alt.LayerChart(...)"
      ]
     },
     "execution_count": 4,
     "metadata": {},
     "output_type": "execute_result"
    }
   ],
   "source": [
    "test_report.equity_graph"
   ]
  },
  {
   "cell_type": "code",
   "execution_count": 5,
   "id": "039a7951-b957-4193-b575-221a7093d84b",
   "metadata": {},
   "outputs": [
    {
     "data": {
      "text/plain": [
       "{'mean_profit_ratio': Decimal('1.00430603'),\n",
       " 'gmean_profit_ratio': Decimal('1.00319138'),\n",
       " 'max_dropdown': Decimal('0.89029840'),\n",
       " 'total_trades': 27,\n",
       " 'success_trades': 19,\n",
       " 'fail_trades': 8,\n",
       " 'success_trades_ratio': Decimal('0.70370370')}"
      ]
     },
     "execution_count": 5,
     "metadata": {},
     "output_type": "execute_result"
    }
   ],
   "source": [
    "test_report.summary"
   ]
  },
  {
   "cell_type": "code",
   "execution_count": null,
   "id": "8761fc6a-70a7-48ef-b938-7b8162bbfab0",
   "metadata": {},
   "outputs": [],
   "source": []
  }
 ],
 "metadata": {
  "kernelspec": {
   "display_name": "Python 3 (ipykernel)",
   "language": "python",
   "name": "python3"
  },
  "language_info": {
   "codemirror_mode": {
    "name": "ipython",
    "version": 3
   },
   "file_extension": ".py",
   "mimetype": "text/x-python",
   "name": "python",
   "nbconvert_exporter": "python",
   "pygments_lexer": "ipython3",
   "version": "3.10.3"
  }
 },
 "nbformat": 4,
 "nbformat_minor": 5
}
